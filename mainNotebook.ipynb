{
 "cells": [
  {
   "cell_type": "markdown",
   "metadata": {},
   "source": [
    "# Twitter Disaster Classification: Natural Language Processing"
   ]
  },
  {
   "cell_type": "code",
   "execution_count": 2,
   "metadata": {},
   "outputs": [],
   "source": [
    "# Importing Libraries\n",
    "\n",
    "import pandas as pd\n",
    "import numpy as np\n",
    "import matplotlib.pyplot as plt\n",
    "from collections import defaultdict\n",
    "from sklearn.pipeline import Pipeline\n",
    "from sklearn.compose import ColumnTransformer\n",
    "from sklearn.model_selection import train_test_split\n",
    "from sklearn.metrics import accuracy_score, precision_score, recall_score, f1_score\n",
    "from sklearn.feature_extraction.text import CountVectorizer"
   ]
  },
  {
   "cell_type": "code",
   "execution_count": 3,
   "metadata": {},
   "outputs": [],
   "source": [
    "#Importing data\n",
    "df = pd.read_csv('data/train.csv')"
   ]
  },
  {
   "cell_type": "code",
   "execution_count": 4,
   "metadata": {},
   "outputs": [],
   "source": [
    "# Feature Selection\n",
    "X = df['text']\n",
    "y = df['target']\n",
    "\n",
    "#vectorizer = CountVectorizer(ngram_range=(2,2))\n",
    "#X = vectorizer.fit_transform(X)\n",
    "#X = pd.DataFrame(X.toarray(), columns=vectorizer.get_feature_names())"
   ]
  },
  {
   "cell_type": "code",
   "execution_count": 5,
   "metadata": {},
   "outputs": [],
   "source": [
    "# Let's split the data for training, cross-validation, and testing\n",
    "X_train, X_test, y_train, y_test = train_test_split(X, y, test_size = 0.2,\n",
    "                                                    random_state = 72);\n",
    "X_train, X_val, y_train, y_val = train_test_split(X_train, y_train, \n",
    "                                                  test_size = 0.2, \n",
    "                                                  random_state = 72);"
   ]
  },
  {
   "cell_type": "code",
   "execution_count": 7,
   "metadata": {},
   "outputs": [],
   "source": [
    "# Plotting:\n",
    "acc = []\n",
    "pre = []\n",
    "rec=[]\n",
    "fs=[]\n",
    "def evaluation(y_val, predictions):\n",
    "    \"\"\" Prints out evaluation information.\n",
    "    \n",
    "        y_val: true value of the targets\n",
    "        predictions: predicted value of the targets\"\"\"\n",
    "    # Let's look at the evaluation metrics:\n",
    "    ## 1. Accuracy\n",
    "    accuracy = accuracy_score(y_val, predictions)\n",
    "    acc.append(accuracy)\n",
    "    \n",
    "    ## 2. Precision\n",
    "    precision = precision_score(y_val, predictions)\n",
    "    pre.append(precision)\n",
    "    \n",
    "    ## 3. Recall\n",
    "    recall = recall_score(y_val, predictions)\n",
    "    rec.append(recall)\n",
    "    \n",
    "    ## 4. F1 score\n",
    "    f1 = f1_score(y_val, predictions)\n",
    "    fs.append(f1)\n",
    "    print(\"Accuracy: \",accuracy, \"\\nPrecision:\", \n",
    "          precision, \"\\nRecall:   \",recall, \"\\nF1:       \",f1)\n",
    "    return f1"
   ]
  },
  {
   "cell_type": "code",
   "execution_count": 8,
   "metadata": {},
   "outputs": [
    {
     "name": "stdout",
     "output_type": "stream",
     "text": [
      "Accuracy:  0.7996715927750411 \n",
      "Precision: 0.8171806167400881 \n",
      "Recall:    0.6973684210526315 \n",
      "F1:        0.7525354969574035\n"
     ]
    },
    {
     "data": {
      "text/plain": [
       "0.7525354969574035"
      ]
     },
     "execution_count": 8,
     "metadata": {},
     "output_type": "execute_result"
    }
   ],
   "source": [
    "# Algorithm 1: Naive Bayes\n",
    "\n",
    "from sklearn.naive_bayes import MultinomialNB\n",
    "classifier = MultinomialNB()\n",
    "vectorizer = CountVectorizer(ngram_range=(1,2))\n",
    "\n",
    "# Make a pipeline\n",
    "stepsNB = [(\"count\", vectorizer),(\"classifier\", classifier)]\n",
    "pipeNB = Pipeline(steps = stepsNB)\n",
    "\n",
    "# Fit the pipe:\n",
    "pipeNB.fit(X_train, y_train)\n",
    "predictionsNB = pipeNB.predict(X_val)\n",
    "\n",
    "# Evaluation\n",
    "evaluation(y_val, predictionsNB)"
   ]
  },
  {
   "cell_type": "code",
   "execution_count": 8,
   "metadata": {},
   "outputs": [
    {
     "name": "stdout",
     "output_type": "stream",
     "text": [
      "Accuracy:  0.7750410509031199 \n",
      "Precision: 0.776824034334764 \n",
      "Recall:    0.6804511278195489 \n",
      "F1:        0.7254509018036073\n"
     ]
    },
    {
     "data": {
      "text/plain": [
       "0.7254509018036073"
      ]
     },
     "execution_count": 8,
     "metadata": {},
     "output_type": "execute_result"
    }
   ],
   "source": [
    "# Algorithm 2: AdaBoost\n",
    "from sklearn.ensemble import AdaBoostClassifier\n",
    "modelAB = AdaBoostClassifier(n_estimators = 150, random_state = 1)\n",
    "stepsAB = [(\"count\", vectorizer),(\"adaboost\", modelAB)]\n",
    "pipeAB = Pipeline(steps = stepsAB)\n",
    "pipeAB.fit(X_train, y_train)\n",
    "predictionsAB = pipeAB.predict(X_val)\n",
    "evaluation(y_val, predictionsAB)"
   ]
  },
  {
   "cell_type": "code",
   "execution_count": 9,
   "metadata": {},
   "outputs": [
    {
     "name": "stdout",
     "output_type": "stream",
     "text": [
      "Accuracy:  0.7947454844006568 \n",
      "Precision: 0.827906976744186 \n",
      "Recall:    0.6691729323308271 \n",
      "F1:        0.74012474012474\n"
     ]
    },
    {
     "data": {
      "text/plain": [
       "0.74012474012474"
      ]
     },
     "execution_count": 9,
     "metadata": {},
     "output_type": "execute_result"
    }
   ],
   "source": [
    "# Algorithm 3: Logistic Regression\n",
    "from sklearn.linear_model import LogisticRegression\n",
    "modelLR = LogisticRegression(random_state = 1, max_iter = 100000)\n",
    "stepsLR = [(\"counts\",vectorizer), (\"LR\", modelLR)]\n",
    "pipeLR = Pipeline(steps = stepsLR)\n",
    "pipeLR.fit(X_train, y_train)\n",
    "predictionsLR = pipeLR.predict(X_val)\n",
    "evaluation(y_val, predictionsLR)"
   ]
  },
  {
   "cell_type": "code",
   "execution_count": 10,
   "metadata": {},
   "outputs": [
    {
     "name": "stdout",
     "output_type": "stream",
     "text": [
      "Accuracy:  0.7848932676518884 \n",
      "Precision: 0.8609625668449198 \n",
      "Recall:    0.6052631578947368 \n",
      "F1:        0.7108167770419427\n"
     ]
    },
    {
     "data": {
      "text/plain": [
       "0.7108167770419427"
      ]
     },
     "execution_count": 10,
     "metadata": {},
     "output_type": "execute_result"
    }
   ],
   "source": [
    "# Algorithm 4: Support Vector Classifier\n",
    "from sklearn.svm import SVC\n",
    "modelSVC = SVC(C = 2, degree = 1)\n",
    "stepsSVC = [(\"counts\",vectorizer), (\"SVC\", modelSVC)]\n",
    "pipeSVC = Pipeline(steps = stepsSVC)\n",
    "pipeSVC.fit(X_train, y_train)\n",
    "predictionsSVC = pipeSVC.predict(X_val)\n",
    "evaluation(y_val, predictionsSVC)"
   ]
  },
  {
   "cell_type": "code",
   "execution_count": 11,
   "metadata": {},
   "outputs": [
    {
     "name": "stdout",
     "output_type": "stream",
     "text": [
      "Accuracy:  0.7635467980295566 \n",
      "Precision: 0.7811059907834101 \n",
      "Recall:    0.6372180451127819 \n",
      "F1:        0.7018633540372671\n"
     ]
    },
    {
     "data": {
      "text/plain": [
       "0.7018633540372671"
      ]
     },
     "execution_count": 11,
     "metadata": {},
     "output_type": "execute_result"
    }
   ],
   "source": [
    "# Algorithm 5: XGBoost\n",
    "from xgboost import XGBClassifier\n",
    "modelXGB = XGBClassifier(max_depth = 100, learning_rate = .1)\n",
    "stepsXGB = [(\"counts\",vectorizer), (\"XGB\", modelXGB)]\n",
    "pipeXGB = Pipeline(steps = stepsXGB)\n",
    "pipeXGB.fit(X_train, y_train)\n",
    "predictionsXGB = pipeXGB.predict(X_val)\n",
    "evaluation(y_val, predictionsXGB)"
   ]
  },
  {
   "cell_type": "code",
   "execution_count": 65,
   "metadata": {},
   "outputs": [
    {
     "data": {
      "image/png": "[encoded data removed]",
      "text/plain": [
       "<Figure size 432x288 with 1 Axes>"
      ]
     },
     "metadata": {},
     "output_type": "display_data"
    }
   ],
   "source": [
    "#Plot 1\n",
    "\n",
    "fig = plt.figure();\n",
    "plt.plot([0, 10, 20, 30, 40],acc,'ko-')\n",
    "plt.xticks([0, 10, 20, 30, 40], [\"Naive-Bayes\", \"AdaBoost\",\n",
    "                                 \"Logistic Regression\", \"SVM\", \"XGBoost\"])\n",
    "plt.plot([0, 10, 20, 30, 40],pre,'m*-')\n",
    "plt.plot([0, 10, 20, 30, 40],rec,'rs-')\n",
    "plt.plot([0, 10, 20, 30, 40],fs, 'g>-')\n",
    "plt.legend([\"Accuracy\",\"Precision\",\"Recall\",\"F1 score\"])\n",
    "plt.savefig(fname = \"comparison.png\")"
   ]
  },
  {
   "cell_type": "code",
   "execution_count": 63,
   "metadata": {},
   "outputs": [
    {
     "data": {
      "image/png": "[encoded data removed]",
      "text/plain": [
       "<Figure size 432x288 with 1 Axes>"
      ]
     },
     "metadata": {},
     "output_type": "display_data"
    }
   ],
   "source": [
    "#Plot 2\n",
    "\n",
    "# We can take a look at the importance of tokens with \n",
    "# the help of Logistic Regression Model\n",
    "coeffs = modelLR.coef_\n",
    "df = pd.read_csv('data/train.csv')\n",
    "X = df['text']\n",
    "y = df['target']\n",
    "vectorizer = CountVectorizer(ngram_range=(1,2))\n",
    "Xa = vectorizer.fit_transform(X)\n",
    "X = pd.DataFrame(Xa.toarray(), columns=vectorizer.get_feature_names())\n",
    "# Since this is a very high dimensional space, we will look at the first few tokens\n",
    "\n",
    "x_axis = np.linspace(2,500, 7)\n",
    "plt.plot(x_axis, coeffs[0][0:7])\n",
    "plt.xticks(x_axis, [\"\\\"00\\\"\", \"\\\"00 11\\\"\", \"\\\"00 25\\\"\", \"\\\"00 52\\\"\",\n",
    "                    \"\\\"00 am\\\"\", \"\\\"00 at\\\"\", \"\\\"00 bestseller\\\"\"])\n",
    "plt.xlabel(\"TOKENS\")\n",
    "plt.xlim([-2, 500])\n",
    "plt.ylabel(\"WEIGHT OF TOKEN\")\n",
    "plt.title(\"WEIGHT OF THE FIRST FEW TOKENS\")\n",
    "plt.savefig(fname = \"weight.png\")"
   ]
  },
  {
   "cell_type": "code",
   "execution_count": 10,
   "metadata": {},
   "outputs": [
    {
     "name": "stdout",
     "output_type": "stream",
     "text": [
      "Accuracy:  0.799080761654629 \n",
      "Precision: 0.823943661971831 \n",
      "Recall:    0.6943620178041543 \n",
      "F1:        0.7536231884057971\n"
     ]
    },
    {
     "data": {
      "text/plain": [
       "0.7536231884057971"
      ]
     },
     "execution_count": 10,
     "metadata": {},
     "output_type": "execute_result"
    }
   ],
   "source": [
    "# Final Results\n",
    "# Test Set evaluation\n",
    "\n",
    "testPredictions = pipeNB.predict(X_test)\n",
    "evaluation(y_test, testPredictions)"
   ]
  }
 ],
 "metadata": {
  "kernelspec": {
   "display_name": "Python 3",
   "language": "python",
   "name": "python3"
  },
  "language_info": {
   "codemirror_mode": {
    "name": "ipython",
    "version": 3
   },
   "file_extension": ".py",
   "mimetype": "text/x-python",
   "name": "python",
   "nbconvert_exporter": "python",
   "pygments_lexer": "ipython3",
   "version": "3.6.9"
  }
 },
 "nbformat": 4,
 "nbformat_minor": 2
}
